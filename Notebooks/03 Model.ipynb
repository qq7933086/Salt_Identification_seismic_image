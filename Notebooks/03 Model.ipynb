{
 "cells": [
  {
   "cell_type": "code",
   "execution_count": 1,
   "id": "af990f14",
   "metadata": {},
   "outputs": [],
   "source": [
    "import pandas as pd\n",
    "import os, glob\n",
    "import numpy as np\n",
    "import matplotlib.pyplot as plt\n",
    "import seaborn as sns\n",
    "\n",
    "import cv2 as cv\n",
    "import tensorflow as tf\n",
    "import keras\n",
    "from keras import Model\n",
    "from keras.models import Sequential\n",
    "from keras.layers import Dense, Flatten\n",
    "from keras.layers import Input, Activation, Conv2D, Conv2DTranspose,\\\n",
    "Concatenate, BatchNormalization, MaxPooling2D, Dropout\n",
    "from keras.callbacks import EarlyStopping, ModelCheckpoint\n"
   ]
  },
  {
   "cell_type": "code",
   "execution_count": 31,
   "id": "3eaa0748",
   "metadata": {},
   "outputs": [
    {
     "name": "stdout",
     "output_type": "stream",
     "text": [
      "2.10.0\n",
      "2.10.0\n"
     ]
    }
   ],
   "source": [
    "print(tf. __version__)\n",
    "print(keras.__version__)"
   ]
  },
  {
   "cell_type": "code",
   "execution_count": 2,
   "id": "5caf94e7",
   "metadata": {},
   "outputs": [],
   "source": [
    "# Set some parameters\n",
    "im_height = 128\n",
    "im_width = 128\n",
    "im_chan = 1\n",
    "\n",
    "path_train = '../raw_data/train/'\n",
    "path_test = '../raw_data/test/'"
   ]
  },
  {
   "cell_type": "markdown",
   "id": "13de231b",
   "metadata": {},
   "source": [
    "Prepare train & test images"
   ]
  },
  {
   "cell_type": "code",
   "execution_count": 3,
   "id": "dc619558",
   "metadata": {},
   "outputs": [],
   "source": [
    "os.chdir(path_train )\n",
    "train_img_names = [img_name[0:-4] for img_name in glob.glob('images/*.png')]\n",
    "train_mask_names = [img_name[0:-4] for img_name in glob.glob('masks/*.png')]\n",
    "os.chdir('C:/Users/YX/Documents/QX/3rdCap/Salt_Identification_seismic_image/Notebooks')"
   ]
  },
  {
   "cell_type": "code",
   "execution_count": 4,
   "id": "3da11aba",
   "metadata": {},
   "outputs": [],
   "source": [
    "os.chdir(path_test )\n",
    "test_img_names = [img_name[0:-4] for img_name in glob.glob('images/*.png')]\n",
    "test_mask_names = [img_name[0:-4] for img_name in glob.glob('masks/*.png')]\n",
    "os.chdir('C:/Users/YX/Documents/QX/3rdCap/Salt_Identification_seismic_image/Notebooks')"
   ]
  },
  {
   "cell_type": "code",
   "execution_count": 42,
   "id": "8d2142c7",
   "metadata": {},
   "outputs": [
    {
     "data": {
      "text/html": [
       "<div>\n",
       "<style scoped>\n",
       "    .dataframe tbody tr th:only-of-type {\n",
       "        vertical-align: middle;\n",
       "    }\n",
       "\n",
       "    .dataframe tbody tr th {\n",
       "        vertical-align: top;\n",
       "    }\n",
       "\n",
       "    .dataframe thead th {\n",
       "        text-align: right;\n",
       "    }\n",
       "</style>\n",
       "<table border=\"1\" class=\"dataframe\">\n",
       "  <thead>\n",
       "    <tr style=\"text-align: right;\">\n",
       "      <th></th>\n",
       "      <th>z</th>\n",
       "      <th>qt_cat</th>\n",
       "      <th>trainfile</th>\n",
       "    </tr>\n",
       "    <tr>\n",
       "      <th>id</th>\n",
       "      <th></th>\n",
       "      <th></th>\n",
       "      <th></th>\n",
       "    </tr>\n",
       "  </thead>\n",
       "  <tbody>\n",
       "    <tr>\n",
       "      <th>4ac19fb269</th>\n",
       "      <td>306</td>\n",
       "      <td>1</td>\n",
       "      <td>1</td>\n",
       "    </tr>\n",
       "    <tr>\n",
       "      <th>1825fadf99</th>\n",
       "      <td>157</td>\n",
       "      <td>0</td>\n",
       "      <td>1</td>\n",
       "    </tr>\n",
       "    <tr>\n",
       "      <th>f59821d067</th>\n",
       "      <td>305</td>\n",
       "      <td>1</td>\n",
       "      <td>1</td>\n",
       "    </tr>\n",
       "    <tr>\n",
       "      <th>5b435fad9d</th>\n",
       "      <td>503</td>\n",
       "      <td>4</td>\n",
       "      <td>1</td>\n",
       "    </tr>\n",
       "    <tr>\n",
       "      <th>e340e7bfca</th>\n",
       "      <td>783</td>\n",
       "      <td>8</td>\n",
       "      <td>1</td>\n",
       "    </tr>\n",
       "  </tbody>\n",
       "</table>\n",
       "</div>"
      ],
      "text/plain": [
       "              z  qt_cat  trainfile\n",
       "id                                \n",
       "4ac19fb269  306       1          1\n",
       "1825fadf99  157       0          1\n",
       "f59821d067  305       1          1\n",
       "5b435fad9d  503       4          1\n",
       "e340e7bfca  783       8          1"
      ]
     },
     "execution_count": 42,
     "metadata": {},
     "output_type": "execute_result"
    }
   ],
   "source": [
    "z_df = pd.read_pickle('../data/depths.pkl')\n",
    "z_df.head()"
   ]
  },
  {
   "cell_type": "code",
   "execution_count": 43,
   "id": "57ff14cc",
   "metadata": {},
   "outputs": [],
   "source": [
    "subset_df = z_df.loc[(z_df['trainfile'] == 1) ] #& (z_df['qt_cat'] == 5)"
   ]
  },
  {
   "cell_type": "code",
   "execution_count": 15,
   "id": "59e76fbf",
   "metadata": {},
   "outputs": [
    {
     "data": {
      "text/plain": [
       "'8d89d465fc'"
      ]
     },
     "execution_count": 15,
     "metadata": {},
     "output_type": "execute_result"
    }
   ],
   "source": []
  },
  {
   "cell_type": "code",
   "execution_count": 44,
   "id": "61b288db",
   "metadata": {
    "scrolled": true
   },
   "outputs": [],
   "source": [
    "# Get and resize train images and masks\n",
    "X_train = np.zeros((len(subset_df), im_height, im_width, im_chan), dtype=np.uint8)\n",
    "Y_train = np.zeros((len(subset_df), im_height, im_width, im_chan), dtype=bool)\n",
    "# for index, row in subset_df.iterrows():\n",
    "for i in range(len(subset_df)):\n",
    "    img = cv.imread(path_train + '/images/' + subset_df.index[i] + '.png',flags = cv.IMREAD_GRAYSCALE )\n",
    "    mask = cv.imread(path_train + '/masks/' + subset_df.index[i] + '.png',flags = cv.IMREAD_GRAYSCALE )\n",
    "    X_train[i,...,0] = cv.resize(img, dsize=(128, 128), interpolation=cv.INTER_LINEAR)  # INTER_LINEAR or INTER_CUBIC\n",
    "    Y_train[i,...,0] = cv.resize(mask, dsize=(128, 128), interpolation=cv.INTER_LINEAR) \n"
   ]
  },
  {
   "cell_type": "code",
   "execution_count": 9,
   "id": "ea522513",
   "metadata": {
    "scrolled": false
   },
   "outputs": [
    {
     "data": {
      "image/png": "[encoded data removed]",
      "text/plain": [
       "<Figure size 640x480 with 2 Axes>"
      ]
     },
     "metadata": {},
     "output_type": "display_data"
    }
   ],
   "source": [
    "idx = 255\n",
    "plt.figure()\n",
    "plt.subplot(1,2,1)\n",
    "plt.imshow(X_train[idx], cmap = 'gray')\n",
    "plt.subplot(1,2,2)\n",
    "plt.imshow(Y_train[idx],cmap = 'gray');"
   ]
  },
  {
   "cell_type": "code",
   "execution_count": 45,
   "id": "fed0ca81",
   "metadata": {},
   "outputs": [
    {
     "data": {
      "text/plain": [
       "((4000, 128, 128, 1), (4000, 128, 128, 1))"
      ]
     },
     "execution_count": 45,
     "metadata": {},
     "output_type": "execute_result"
    }
   ],
   "source": [
    "X_train.shape, Y_train.shape"
   ]
  },
  {
   "cell_type": "markdown",
   "id": "003c9dd5",
   "metadata": {},
   "source": [
    "## Test a classification problem"
   ]
  },
  {
   "cell_type": "code",
   "execution_count": 60,
   "id": "35362650",
   "metadata": {},
   "outputs": [
    {
     "data": {
      "text/plain": [
       "278"
      ]
     },
     "execution_count": 60,
     "metadata": {},
     "output_type": "execute_result"
    }
   ],
   "source": [
    "bear_salt = np.zeros((len(subset_df),im_chan), dtype=bool)\n",
    "for i in range(len(subset_df)):\n",
    "    bear_salt[i,:] = Y_train[i,:,:,0].sum() > 0\n",
    "bear_salt.sum()"
   ]
  },
  {
   "cell_type": "code",
   "execution_count": 64,
   "id": "fa2f77f4",
   "metadata": {},
   "outputs": [
    {
     "data": {
      "text/plain": [
       "(394, 1)"
      ]
     },
     "execution_count": 64,
     "metadata": {},
     "output_type": "execute_result"
    }
   ],
   "source": [
    "bear_salt.shape"
   ]
  },
  {
   "cell_type": "code",
   "execution_count": 72,
   "id": "a595357e",
   "metadata": {},
   "outputs": [],
   "source": [
    "# Initialize the model object\n",
    "model = Sequential()\n",
    "# Add a convolutional layer\n",
    "model.add(Conv2D(10, kernel_size=3, activation='relu', input_shape=(im_height, im_width, 1)))\n",
    "\n",
    "# Flatten the output of the convolutional layer\n",
    "model.add(Flatten())\n",
    "# Add an output layer for the 3 categories\n",
    "model.add(Dense(1, activation='softmax'))"
   ]
  },
  {
   "cell_type": "code",
   "execution_count": 74,
   "id": "c06cb0ce",
   "metadata": {
    "scrolled": true
   },
   "outputs": [
    {
     "name": "stdout",
     "output_type": "stream",
     "text": [
      "Model: \"sequential_1\"\n",
      "_________________________________________________________________\n",
      " Layer (type)                Output Shape              Param #   \n",
      "=================================================================\n",
      " conv2d_1 (Conv2D)           (None, 126, 126, 10)      100       \n",
      "                                                                 \n",
      " flatten_1 (Flatten)         (None, 158760)            0         \n",
      "                                                                 \n",
      " dense_1 (Dense)             (None, 1)                 158761    \n",
      "                                                                 \n",
      "=================================================================\n",
      "Total params: 158,861\n",
      "Trainable params: 158,861\n",
      "Non-trainable params: 0\n",
      "_________________________________________________________________\n",
      "None\n",
      "Epoch 1/3\n",
      "32/32 [==============================] - 2s 45ms/step - loss: 1144677.1250 - accuracy: 0.7111 - val_loss: 783864.3750 - val_accuracy: 0.6835\n",
      "Epoch 2/3\n",
      "32/32 [==============================] - 1s 34ms/step - loss: 588689.7500 - accuracy: 0.7111 - val_loss: 366493.2500 - val_accuracy: 0.6835\n",
      "Epoch 3/3\n",
      "32/32 [==============================] - 1s 34ms/step - loss: 227962.8750 - accuracy: 0.7111 - val_loss: 65577.2500 - val_accuracy: 0.6835\n"
     ]
    },
    {
     "data": {
      "text/plain": [
       "<keras.callbacks.History at 0x1f95831ab30>"
      ]
     },
     "execution_count": 74,
     "metadata": {},
     "output_type": "execute_result"
    }
   ],
   "source": [
    "# Compile the model \n",
    "model.compile(optimizer='adam', \n",
    "              loss='binary_crossentropy', \n",
    "              metrics=['accuracy'])\n",
    "print(model.summary())\n",
    "# Fit the model on a training set\n",
    "model.fit(X_train, bear_salt, \n",
    "          validation_split=0.2, \n",
    "          epochs=3, batch_size=10)"
   ]
  },
  {
   "cell_type": "markdown",
   "id": "440fd2b5",
   "metadata": {},
   "source": [
    "## Segmentation"
   ]
  },
  {
   "cell_type": "markdown",
   "id": "d8d8d947",
   "metadata": {},
   "source": [
    "# Define the metric: IoU"
   ]
  },
  {
   "cell_type": "code",
   "execution_count": 25,
   "id": "82ccf793",
   "metadata": {},
   "outputs": [],
   "source": [
    "# Define IoU metric\n",
    "def mean_iou(y_true, y_pred):\n",
    "    prec = []\n",
    "    for t in np.arange(0.5, 1.0, 0.05):\n",
    "        y_pred_ = tf.cast(y_pred > t, tf.int32)\n",
    "#         y_pred_ = tf.to_int32(y_pred > t)\n",
    "        m = tf.keras.metrics.IoU(num_classes=2, target_class_ids=[1]) #num_classes=2, \n",
    "        m.update_state(y_pred_, y_true)\n",
    "        score = m.result()\n",
    "#         K.get_session().run(tf.local_variables_initializer())\n",
    "#         with tf.control_dependencies([up_opt]):\n",
    "#         score = tf.identity(score)\n",
    "        prec.append(score)\n",
    "    return tf.math.reduce_mean(prec)"
   ]
  },
  {
   "cell_type": "markdown",
   "id": "a6a7e1b7",
   "metadata": {},
   "source": [
    "## Unet"
   ]
  },
  {
   "cell_type": "markdown",
   "id": "e6809b13",
   "metadata": {},
   "source": [
    "Following code of Unet from https://towardsdatascience.com/understanding-semantic-segmentation-with-unet-6be4f42d4b47"
   ]
  },
  {
   "cell_type": "markdown",
   "id": "1acd8129",
   "metadata": {},
   "source": [
    "Q: Why applying two consecutive Convolution Layers?"
   ]
  },
  {
   "cell_type": "markdown",
   "id": "bd48edfa",
   "metadata": {},
   "source": [
    "Q: Why concatenating the transposed conv layers with the feature maps from the encoder at the same level?\n",
    "To get better precise locations, at every step of the decoder we use skip connections by concatenating the output of the transposed convolution layers with the feature maps from the Encoder at the same level:\n",
    "\n",
    "u6 = u6 + c4\n",
    "\n",
    "u7 = u7 + c3\n",
    "\n",
    "u8 = u8 + c2\n",
    "\n",
    "u9 = u9 + c1\n",
    "\n",
    "After every concatenation we again apply two consecutive regular convolutions so that the model can learn to assemble a more precise output"
   ]
  },
  {
   "cell_type": "code",
   "execution_count": 46,
   "id": "eb554251",
   "metadata": {},
   "outputs": [],
   "source": [
    "def conv2d_block(input_tensor, n_filters, kernel_size = 3, batchnorm = True):\n",
    "    \"\"\"Function to add 2 convolutional layers with the parameters passed to it\"\"\"\n",
    "    # first layer\n",
    "    x = Conv2D(filters = n_filters, kernel_size = (kernel_size, kernel_size),\\\n",
    "              kernel_initializer = 'he_normal', padding = 'same')(input_tensor)\n",
    "    if batchnorm:\n",
    "        x = BatchNormalization()(x)\n",
    "    x = Activation('relu')(x)\n",
    "    \n",
    "    # second layer\n",
    "    x = Conv2D(filters = n_filters, kernel_size = (kernel_size, kernel_size),\\\n",
    "              kernel_initializer = 'he_normal', padding = 'same')(input_tensor)\n",
    "    if batchnorm:\n",
    "        x = BatchNormalization()(x)\n",
    "    x = Activation('relu')(x)\n",
    "    \n",
    "    return x\n",
    "  \n",
    "def get_unet(input_img, n_filters = 16, dropout = 0.1, batchnorm = True):\n",
    "    # Contracting Path\n",
    "    c1 = conv2d_block(input_img, n_filters * 1, kernel_size = 3, batchnorm = batchnorm)\n",
    "    p1 = MaxPooling2D((2, 2))(c1)\n",
    "    p1 = Dropout(dropout)(p1)\n",
    "    \n",
    "    c2 = conv2d_block(p1, n_filters * 2, kernel_size = 3, batchnorm = batchnorm)\n",
    "    p2 = MaxPooling2D((2, 2))(c2)\n",
    "    p2 = Dropout(dropout)(p2)\n",
    "    \n",
    "    c3 = conv2d_block(p2, n_filters * 4, kernel_size = 3, batchnorm = batchnorm)\n",
    "    p3 = MaxPooling2D((2, 2))(c3)\n",
    "    p3 = Dropout(dropout)(p3)\n",
    "    \n",
    "    c4 = conv2d_block(p3, n_filters * 8, kernel_size = 3, batchnorm = batchnorm)\n",
    "    p4 = MaxPooling2D((2, 2))(c4)\n",
    "    p4 = Dropout(dropout)(p4)\n",
    "    \n",
    "    c5 = conv2d_block(p4, n_filters = n_filters * 16, kernel_size = 3, batchnorm = batchnorm)\n",
    "    \n",
    "    # Expansive Path\n",
    "    u6 = Conv2DTranspose(n_filters * 8, (3, 3), strides = (2, 2), padding = 'same')(c5)\n",
    "#     print(u6.shape, c4.shape)\n",
    "    u6 = Concatenate()([u6, c4])\n",
    "#     print(u6.shape)\n",
    "    u6 = Dropout(dropout)(u6)\n",
    "    c6 = conv2d_block(u6, n_filters * 8, kernel_size = 3, batchnorm = batchnorm)\n",
    "    \n",
    "    u7 = Conv2DTranspose(n_filters * 4, (3, 3), strides = (2, 2), padding = 'same')(c6)\n",
    "    u7 = Concatenate()([u7, c3])\n",
    "    u7 = Dropout(dropout)(u7)\n",
    "    c7 = conv2d_block(u7, n_filters * 4, kernel_size = 3, batchnorm = batchnorm)\n",
    "    \n",
    "    u8 = Conv2DTranspose(n_filters * 2, (3, 3), strides = (2, 2), padding = 'same')(c7)\n",
    "    u8 = Concatenate()([u8, c2])\n",
    "    u8 = Dropout(dropout)(u8)\n",
    "    c8 = conv2d_block(u8, n_filters * 2, kernel_size = 3, batchnorm = batchnorm)\n",
    "    \n",
    "    u9 = Conv2DTranspose(n_filters * 1, (3, 3), strides = (2, 2), padding = 'same')(c8)\n",
    "    u9 = Concatenate()([u9, c1])\n",
    "    u9 = Dropout(dropout)(u9)\n",
    "    c9 = conv2d_block(u9, n_filters * 1, kernel_size = 3, batchnorm = batchnorm)\n",
    "    \n",
    "    outputs = Conv2D(1, (1, 1), activation='sigmoid')(c9)\n",
    "    model = Model(inputs=[input_img], outputs=[outputs])\n",
    "    return model"
   ]
  },
  {
   "cell_type": "code",
   "execution_count": 47,
   "id": "3709b2e1",
   "metadata": {
    "scrolled": true
   },
   "outputs": [
    {
     "name": "stdout",
     "output_type": "stream",
     "text": [
      "Model: \"model_6\"\n",
      "__________________________________________________________________________________________________\n",
      " Layer (type)                   Output Shape         Param #     Connected to                     \n",
      "==================================================================================================\n",
      " input_7 (InputLayer)           [(None, 128, 128, 1  0           []                               \n",
      "                                )]                                                                \n",
      "                                                                                                  \n",
      " conv2d_115 (Conv2D)            (None, 128, 128, 16  160         ['input_7[0][0]']                \n",
      "                                )                                                                 \n",
      "                                                                                                  \n",
      " batch_normalization_109 (Batch  (None, 128, 128, 16  64         ['conv2d_115[0][0]']             \n",
      " Normalization)                 )                                                                 \n",
      "                                                                                                  \n",
      " activation_109 (Activation)    (None, 128, 128, 16  0           ['batch_normalization_109[0][0]']\n",
      "                                )                                                                 \n",
      "                                                                                                  \n",
      " max_pooling2d_24 (MaxPooling2D  (None, 64, 64, 16)  0           ['activation_109[0][0]']         \n",
      " )                                                                                                \n",
      "                                                                                                  \n",
      " dropout_48 (Dropout)           (None, 64, 64, 16)   0           ['max_pooling2d_24[0][0]']       \n",
      "                                                                                                  \n",
      " conv2d_117 (Conv2D)            (None, 64, 64, 32)   4640        ['dropout_48[0][0]']             \n",
      "                                                                                                  \n",
      " batch_normalization_111 (Batch  (None, 64, 64, 32)  128         ['conv2d_117[0][0]']             \n",
      " Normalization)                                                                                   \n",
      "                                                                                                  \n",
      " activation_111 (Activation)    (None, 64, 64, 32)   0           ['batch_normalization_111[0][0]']\n",
      "                                                                                                  \n",
      " max_pooling2d_25 (MaxPooling2D  (None, 32, 32, 32)  0           ['activation_111[0][0]']         \n",
      " )                                                                                                \n",
      "                                                                                                  \n",
      " dropout_49 (Dropout)           (None, 32, 32, 32)   0           ['max_pooling2d_25[0][0]']       \n",
      "                                                                                                  \n",
      " conv2d_119 (Conv2D)            (None, 32, 32, 64)   18496       ['dropout_49[0][0]']             \n",
      "                                                                                                  \n",
      " batch_normalization_113 (Batch  (None, 32, 32, 64)  256         ['conv2d_119[0][0]']             \n",
      " Normalization)                                                                                   \n",
      "                                                                                                  \n",
      " activation_113 (Activation)    (None, 32, 32, 64)   0           ['batch_normalization_113[0][0]']\n",
      "                                                                                                  \n",
      " max_pooling2d_26 (MaxPooling2D  (None, 16, 16, 64)  0           ['activation_113[0][0]']         \n",
      " )                                                                                                \n",
      "                                                                                                  \n",
      " dropout_50 (Dropout)           (None, 16, 16, 64)   0           ['max_pooling2d_26[0][0]']       \n",
      "                                                                                                  \n",
      " conv2d_121 (Conv2D)            (None, 16, 16, 128)  73856       ['dropout_50[0][0]']             \n",
      "                                                                                                  \n",
      " batch_normalization_115 (Batch  (None, 16, 16, 128)  512        ['conv2d_121[0][0]']             \n",
      " Normalization)                                                                                   \n",
      "                                                                                                  \n",
      " activation_115 (Activation)    (None, 16, 16, 128)  0           ['batch_normalization_115[0][0]']\n",
      "                                                                                                  \n",
      " max_pooling2d_27 (MaxPooling2D  (None, 8, 8, 128)   0           ['activation_115[0][0]']         \n",
      " )                                                                                                \n",
      "                                                                                                  \n",
      " dropout_51 (Dropout)           (None, 8, 8, 128)    0           ['max_pooling2d_27[0][0]']       \n",
      "                                                                                                  \n",
      " conv2d_123 (Conv2D)            (None, 8, 8, 256)    295168      ['dropout_51[0][0]']             \n",
      "                                                                                                  \n",
      " batch_normalization_117 (Batch  (None, 8, 8, 256)   1024        ['conv2d_123[0][0]']             \n",
      " Normalization)                                                                                   \n",
      "                                                                                                  \n",
      " activation_117 (Activation)    (None, 8, 8, 256)    0           ['batch_normalization_117[0][0]']\n",
      "                                                                                                  \n",
      " conv2d_transpose_24 (Conv2DTra  (None, 16, 16, 128)  295040     ['activation_117[0][0]']         \n",
      " nspose)                                                                                          \n",
      "                                                                                                  \n",
      " concatenate_24 (Concatenate)   (None, 16, 16, 256)  0           ['conv2d_transpose_24[0][0]',    \n",
      "                                                                  'activation_115[0][0]']         \n",
      "                                                                                                  \n",
      " dropout_52 (Dropout)           (None, 16, 16, 256)  0           ['concatenate_24[0][0]']         \n",
      "                                                                                                  \n",
      " conv2d_125 (Conv2D)            (None, 16, 16, 128)  295040      ['dropout_52[0][0]']             \n",
      "                                                                                                  \n",
      " batch_normalization_119 (Batch  (None, 16, 16, 128)  512        ['conv2d_125[0][0]']             \n",
      " Normalization)                                                                                   \n",
      "                                                                                                  \n",
      " activation_119 (Activation)    (None, 16, 16, 128)  0           ['batch_normalization_119[0][0]']\n",
      "                                                                                                  \n",
      " conv2d_transpose_25 (Conv2DTra  (None, 32, 32, 64)  73792       ['activation_119[0][0]']         \n",
      " nspose)                                                                                          \n",
      "                                                                                                  \n",
      " concatenate_25 (Concatenate)   (None, 32, 32, 128)  0           ['conv2d_transpose_25[0][0]',    \n",
      "                                                                  'activation_113[0][0]']         \n"
     ]
    },
    {
     "name": "stdout",
     "output_type": "stream",
     "text": [
      "                                                                                                  \n",
      " dropout_53 (Dropout)           (None, 32, 32, 128)  0           ['concatenate_25[0][0]']         \n",
      "                                                                                                  \n",
      " conv2d_127 (Conv2D)            (None, 32, 32, 64)   73792       ['dropout_53[0][0]']             \n",
      "                                                                                                  \n",
      " batch_normalization_121 (Batch  (None, 32, 32, 64)  256         ['conv2d_127[0][0]']             \n",
      " Normalization)                                                                                   \n",
      "                                                                                                  \n",
      " activation_121 (Activation)    (None, 32, 32, 64)   0           ['batch_normalization_121[0][0]']\n",
      "                                                                                                  \n",
      " conv2d_transpose_26 (Conv2DTra  (None, 64, 64, 32)  18464       ['activation_121[0][0]']         \n",
      " nspose)                                                                                          \n",
      "                                                                                                  \n",
      " concatenate_26 (Concatenate)   (None, 64, 64, 64)   0           ['conv2d_transpose_26[0][0]',    \n",
      "                                                                  'activation_111[0][0]']         \n",
      "                                                                                                  \n",
      " dropout_54 (Dropout)           (None, 64, 64, 64)   0           ['concatenate_26[0][0]']         \n",
      "                                                                                                  \n",
      " conv2d_129 (Conv2D)            (None, 64, 64, 32)   18464       ['dropout_54[0][0]']             \n",
      "                                                                                                  \n",
      " batch_normalization_123 (Batch  (None, 64, 64, 32)  128         ['conv2d_129[0][0]']             \n",
      " Normalization)                                                                                   \n",
      "                                                                                                  \n",
      " activation_123 (Activation)    (None, 64, 64, 32)   0           ['batch_normalization_123[0][0]']\n",
      "                                                                                                  \n",
      " conv2d_transpose_27 (Conv2DTra  (None, 128, 128, 16  4624       ['activation_123[0][0]']         \n",
      " nspose)                        )                                                                 \n",
      "                                                                                                  \n",
      " concatenate_27 (Concatenate)   (None, 128, 128, 32  0           ['conv2d_transpose_27[0][0]',    \n",
      "                                )                                 'activation_109[0][0]']         \n",
      "                                                                                                  \n",
      " dropout_55 (Dropout)           (None, 128, 128, 32  0           ['concatenate_27[0][0]']         \n",
      "                                )                                                                 \n",
      "                                                                                                  \n",
      " conv2d_131 (Conv2D)            (None, 128, 128, 16  4624        ['dropout_55[0][0]']             \n",
      "                                )                                                                 \n",
      "                                                                                                  \n",
      " batch_normalization_125 (Batch  (None, 128, 128, 16  64         ['conv2d_131[0][0]']             \n",
      " Normalization)                 )                                                                 \n",
      "                                                                                                  \n",
      " activation_125 (Activation)    (None, 128, 128, 16  0           ['batch_normalization_125[0][0]']\n",
      "                                )                                                                 \n",
      "                                                                                                  \n",
      " conv2d_132 (Conv2D)            (None, 128, 128, 1)  17          ['activation_125[0][0]']         \n",
      "                                                                                                  \n",
      "==================================================================================================\n",
      "Total params: 1,179,121\n",
      "Trainable params: 1,177,649\n",
      "Non-trainable params: 1,472\n",
      "__________________________________________________________________________________________________\n"
     ]
    }
   ],
   "source": [
    "inputs = Input((im_height, im_width, im_chan))\n",
    "model = get_unet(inputs)\n",
    "model.compile(optimizer='adam', loss='binary_crossentropy', metrics=['accuracy'])  # [tf.keras.metrics.MeanIoU(num_classes=2)]\n",
    "model.summary()"
   ]
  },
  {
   "cell_type": "markdown",
   "id": "f8a9bc22",
   "metadata": {},
   "source": [
    "Use Keras callbacks to implement:\n",
    "\n",
    "* Learning rate decay if the validation loss does not improve for 5 continues epochs.\n",
    "* Early stopping if the validation loss does not improve for 10 continues epochs.\n",
    "* Save the weights only if there is improvement in validation loss."
   ]
  },
  {
   "cell_type": "code",
   "execution_count": 48,
   "id": "9e526bc1",
   "metadata": {},
   "outputs": [
    {
     "name": "stdout",
     "output_type": "stream",
     "text": [
      "Epoch 1/3\n",
      "400/400 [==============================] - ETA: 0s - loss: 0.4081 - accuracy: 0.8224\n",
      "Epoch 1: val_loss improved from inf to 0.54331, saving model to model-tgs-salt-1.h5\n",
      "400/400 [==============================] - 294s 730ms/step - loss: 0.4081 - accuracy: 0.8224 - val_loss: 0.5433 - val_accuracy: 0.7431\n",
      "Epoch 2/3\n",
      "400/400 [==============================] - ETA: 0s - loss: 0.3341 - accuracy: 0.8660\n",
      "Epoch 2: val_loss improved from 0.54331 to 0.37320, saving model to model-tgs-salt-1.h5\n",
      "400/400 [==============================] - 289s 722ms/step - loss: 0.3341 - accuracy: 0.8660 - val_loss: 0.3732 - val_accuracy: 0.8170\n",
      "Epoch 3/3\n",
      "400/400 [==============================] - ETA: 0s - loss: 0.3127 - accuracy: 0.8759\n",
      "Epoch 3: val_loss improved from 0.37320 to 0.33916, saving model to model-tgs-salt-1.h5\n",
      "400/400 [==============================] - 303s 758ms/step - loss: 0.3127 - accuracy: 0.8759 - val_loss: 0.3392 - val_accuracy: 0.8609\n"
     ]
    }
   ],
   "source": [
    "earlystopper = EarlyStopping(patience=5, verbose=1)\n",
    "checkpointer = ModelCheckpoint('model-tgs-salt-1.h5', verbose=1, save_best_only=True)\n",
    "results = model.fit(X_train, Y_train, validation_split=0.2, batch_size=8, epochs=3, \n",
    "                    callbacks=[earlystopper, checkpointer])"
   ]
  },
  {
   "cell_type": "markdown",
   "id": "ebc0e5e6",
   "metadata": {},
   "source": [
    "## Residual Net"
   ]
  },
  {
   "cell_type": "code",
   "execution_count": null,
   "id": "4af74f84",
   "metadata": {},
   "outputs": [],
   "source": []
  }
 ],
 "metadata": {
  "kernelspec": {
   "display_name": "Python 3 (ipykernel)",
   "language": "python",
   "name": "python3"
  },
  "language_info": {
   "codemirror_mode": {
    "name": "ipython",
    "version": 3
   },
   "file_extension": ".py",
   "mimetype": "text/x-python",
   "name": "python",
   "nbconvert_exporter": "python",
   "pygments_lexer": "ipython3",
   "version": "3.10.7"
  }
 },
 "nbformat": 4,
 "nbformat_minor": 5
}
